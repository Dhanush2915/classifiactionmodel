{
  "cells": [
    {
      "cell_type": "markdown",
      "metadata": {
        "id": "view-in-github",
        "colab_type": "text"
      },
      "source": [
        "<a href=\"https://colab.research.google.com/github/Dhanush2915/classifiactionmodel/blob/main/Major_project_smartknower.ipynb\" target=\"_parent\"><img src=\"https://colab.research.google.com/assets/colab-badge.svg\" alt=\"Open In Colab\"/></a>"
      ]
    },
    {
      "cell_type": "code",
      "execution_count": null,
      "metadata": {
        "colab": {
          "base_uri": "https://localhost:8080/"
        },
        "id": "ZDyGgsqzxUxI",
        "outputId": "4ca8b35d-1cb8-4778-829b-1234731b46d6"
      },
      "outputs": [
        {
          "output_type": "stream",
          "name": "stdout",
          "text": [
            "Mounted at /content/drive\n"
          ]
        }
      ],
      "source": [
        "from google.colab import drive\n",
        "drive.mount(\"/content/drive\")\n",
        "import numpy as np\n",
        "import pandas as pd\n",
        "import matplotlib.pyplot as plt\n",
        "import scipy as sp\n",
        "import seaborn as sns"
      ]
    },
    {
      "cell_type": "markdown",
      "metadata": {
        "id": "mKu2y7XEAylv"
      },
      "source": [
        "# New section"
      ]
    },
    {
      "cell_type": "code",
      "execution_count": null,
      "metadata": {
        "id": "6v68fLe3lfBT"
      },
      "outputs": [],
      "source": [
        "path=\"/content/adult.csv\"\n",
        "df=pd.read_csv(path)"
      ]
    },
    {
      "cell_type": "code",
      "source": [
        "from google.colab import drive\n",
        "drive.mount('/content/drive')"
      ],
      "metadata": {
        "colab": {
          "base_uri": "https://localhost:8080/"
        },
        "id": "yizPiTmQljTb",
        "outputId": "8a62a8a3-b72a-4bbc-b592-5472c2a83f78"
      },
      "execution_count": null,
      "outputs": [
        {
          "output_type": "stream",
          "name": "stdout",
          "text": [
            "Drive already mounted at /content/drive; to attempt to forcibly remount, call drive.mount(\"/content/drive\", force_remount=True).\n"
          ]
        }
      ]
    },
    {
      "cell_type": "code",
      "execution_count": null,
      "metadata": {
        "colab": {
          "base_uri": "https://localhost:8080/",
          "height": 320
        },
        "id": "rL1ErLH909Dt",
        "outputId": "b5b5dda6-5a0d-4c0a-97e5-8c3c12bd2e57"
      },
      "outputs": [
        {
          "output_type": "execute_result",
          "data": {
            "text/plain": [
              "   Age          Workclass  Fnlwgt   Education  education_num  \\\n",
              "0   39          State-gov   77516   Bachelors             13   \n",
              "1   50   Self-emp-not-inc   83311   Bachelors             13   \n",
              "2   38            Private  215646     HS-grad              9   \n",
              "3   53            Private  234721        11th              7   \n",
              "4   28            Private  338409   Bachelors             13   \n",
              "\n",
              "        marital_status          occupation    relationship    race      sex  \\\n",
              "0        Never-married        Adm-clerical   Not-in-family   White     Male   \n",
              "1   Married-civ-spouse     Exec-managerial         Husband   White     Male   \n",
              "2             Divorced   Handlers-cleaners   Not-in-family   White     Male   \n",
              "3   Married-civ-spouse   Handlers-cleaners         Husband   Black     Male   \n",
              "4   Married-civ-spouse      Prof-specialty            Wife   Black   Female   \n",
              "\n",
              "   capital_gain  capital_loss  hours_per_week  native_country  income  \n",
              "0          2174             0              40   United-States   <=50K  \n",
              "1             0             0              13   United-States   <=50K  \n",
              "2             0             0              40   United-States   <=50K  \n",
              "3             0             0              40   United-States   <=50K  \n",
              "4             0             0              40            Cuba   <=50K  "
            ],
            "text/html": [
              "\n",
              "  <div id=\"df-16f38034-1769-4760-86f8-e6e1ae2098ab\">\n",
              "    <div class=\"colab-df-container\">\n",
              "      <div>\n",
              "<style scoped>\n",
              "    .dataframe tbody tr th:only-of-type {\n",
              "        vertical-align: middle;\n",
              "    }\n",
              "\n",
              "    .dataframe tbody tr th {\n",
              "        vertical-align: top;\n",
              "    }\n",
              "\n",
              "    .dataframe thead th {\n",
              "        text-align: right;\n",
              "    }\n",
              "</style>\n",
              "<table border=\"1\" class=\"dataframe\">\n",
              "  <thead>\n",
              "    <tr style=\"text-align: right;\">\n",
              "      <th></th>\n",
              "      <th>Age</th>\n",
              "      <th>Workclass</th>\n",
              "      <th>Fnlwgt</th>\n",
              "      <th>Education</th>\n",
              "      <th>education_num</th>\n",
              "      <th>marital_status</th>\n",
              "      <th>occupation</th>\n",
              "      <th>relationship</th>\n",
              "      <th>race</th>\n",
              "      <th>sex</th>\n",
              "      <th>capital_gain</th>\n",
              "      <th>capital_loss</th>\n",
              "      <th>hours_per_week</th>\n",
              "      <th>native_country</th>\n",
              "      <th>income</th>\n",
              "    </tr>\n",
              "  </thead>\n",
              "  <tbody>\n",
              "    <tr>\n",
              "      <th>0</th>\n",
              "      <td>39</td>\n",
              "      <td>State-gov</td>\n",
              "      <td>77516</td>\n",
              "      <td>Bachelors</td>\n",
              "      <td>13</td>\n",
              "      <td>Never-married</td>\n",
              "      <td>Adm-clerical</td>\n",
              "      <td>Not-in-family</td>\n",
              "      <td>White</td>\n",
              "      <td>Male</td>\n",
              "      <td>2174</td>\n",
              "      <td>0</td>\n",
              "      <td>40</td>\n",
              "      <td>United-States</td>\n",
              "      <td>&lt;=50K</td>\n",
              "    </tr>\n",
              "    <tr>\n",
              "      <th>1</th>\n",
              "      <td>50</td>\n",
              "      <td>Self-emp-not-inc</td>\n",
              "      <td>83311</td>\n",
              "      <td>Bachelors</td>\n",
              "      <td>13</td>\n",
              "      <td>Married-civ-spouse</td>\n",
              "      <td>Exec-managerial</td>\n",
              "      <td>Husband</td>\n",
              "      <td>White</td>\n",
              "      <td>Male</td>\n",
              "      <td>0</td>\n",
              "      <td>0</td>\n",
              "      <td>13</td>\n",
              "      <td>United-States</td>\n",
              "      <td>&lt;=50K</td>\n",
              "    </tr>\n",
              "    <tr>\n",
              "      <th>2</th>\n",
              "      <td>38</td>\n",
              "      <td>Private</td>\n",
              "      <td>215646</td>\n",
              "      <td>HS-grad</td>\n",
              "      <td>9</td>\n",
              "      <td>Divorced</td>\n",
              "      <td>Handlers-cleaners</td>\n",
              "      <td>Not-in-family</td>\n",
              "      <td>White</td>\n",
              "      <td>Male</td>\n",
              "      <td>0</td>\n",
              "      <td>0</td>\n",
              "      <td>40</td>\n",
              "      <td>United-States</td>\n",
              "      <td>&lt;=50K</td>\n",
              "    </tr>\n",
              "    <tr>\n",
              "      <th>3</th>\n",
              "      <td>53</td>\n",
              "      <td>Private</td>\n",
              "      <td>234721</td>\n",
              "      <td>11th</td>\n",
              "      <td>7</td>\n",
              "      <td>Married-civ-spouse</td>\n",
              "      <td>Handlers-cleaners</td>\n",
              "      <td>Husband</td>\n",
              "      <td>Black</td>\n",
              "      <td>Male</td>\n",
              "      <td>0</td>\n",
              "      <td>0</td>\n",
              "      <td>40</td>\n",
              "      <td>United-States</td>\n",
              "      <td>&lt;=50K</td>\n",
              "    </tr>\n",
              "    <tr>\n",
              "      <th>4</th>\n",
              "      <td>28</td>\n",
              "      <td>Private</td>\n",
              "      <td>338409</td>\n",
              "      <td>Bachelors</td>\n",
              "      <td>13</td>\n",
              "      <td>Married-civ-spouse</td>\n",
              "      <td>Prof-specialty</td>\n",
              "      <td>Wife</td>\n",
              "      <td>Black</td>\n",
              "      <td>Female</td>\n",
              "      <td>0</td>\n",
              "      <td>0</td>\n",
              "      <td>40</td>\n",
              "      <td>Cuba</td>\n",
              "      <td>&lt;=50K</td>\n",
              "    </tr>\n",
              "  </tbody>\n",
              "</table>\n",
              "</div>\n",
              "      <button class=\"colab-df-convert\" onclick=\"convertToInteractive('df-16f38034-1769-4760-86f8-e6e1ae2098ab')\"\n",
              "              title=\"Convert this dataframe to an interactive table.\"\n",
              "              style=\"display:none;\">\n",
              "        \n",
              "  <svg xmlns=\"http://www.w3.org/2000/svg\" height=\"24px\"viewBox=\"0 0 24 24\"\n",
              "       width=\"24px\">\n",
              "    <path d=\"M0 0h24v24H0V0z\" fill=\"none\"/>\n",
              "    <path d=\"M18.56 5.44l.94 2.06.94-2.06 2.06-.94-2.06-.94-.94-2.06-.94 2.06-2.06.94zm-11 1L8.5 8.5l.94-2.06 2.06-.94-2.06-.94L8.5 2.5l-.94 2.06-2.06.94zm10 10l.94 2.06.94-2.06 2.06-.94-2.06-.94-.94-2.06-.94 2.06-2.06.94z\"/><path d=\"M17.41 7.96l-1.37-1.37c-.4-.4-.92-.59-1.43-.59-.52 0-1.04.2-1.43.59L10.3 9.45l-7.72 7.72c-.78.78-.78 2.05 0 2.83L4 21.41c.39.39.9.59 1.41.59.51 0 1.02-.2 1.41-.59l7.78-7.78 2.81-2.81c.8-.78.8-2.07 0-2.86zM5.41 20L4 18.59l7.72-7.72 1.47 1.35L5.41 20z\"/>\n",
              "  </svg>\n",
              "      </button>\n",
              "      \n",
              "  <style>\n",
              "    .colab-df-container {\n",
              "      display:flex;\n",
              "      flex-wrap:wrap;\n",
              "      gap: 12px;\n",
              "    }\n",
              "\n",
              "    .colab-df-convert {\n",
              "      background-color: #E8F0FE;\n",
              "      border: none;\n",
              "      border-radius: 50%;\n",
              "      cursor: pointer;\n",
              "      display: none;\n",
              "      fill: #1967D2;\n",
              "      height: 32px;\n",
              "      padding: 0 0 0 0;\n",
              "      width: 32px;\n",
              "    }\n",
              "\n",
              "    .colab-df-convert:hover {\n",
              "      background-color: #E2EBFA;\n",
              "      box-shadow: 0px 1px 2px rgba(60, 64, 67, 0.3), 0px 1px 3px 1px rgba(60, 64, 67, 0.15);\n",
              "      fill: #174EA6;\n",
              "    }\n",
              "\n",
              "    [theme=dark] .colab-df-convert {\n",
              "      background-color: #3B4455;\n",
              "      fill: #D2E3FC;\n",
              "    }\n",
              "\n",
              "    [theme=dark] .colab-df-convert:hover {\n",
              "      background-color: #434B5C;\n",
              "      box-shadow: 0px 1px 3px 1px rgba(0, 0, 0, 0.15);\n",
              "      filter: drop-shadow(0px 1px 2px rgba(0, 0, 0, 0.3));\n",
              "      fill: #FFFFFF;\n",
              "    }\n",
              "  </style>\n",
              "\n",
              "      <script>\n",
              "        const buttonEl =\n",
              "          document.querySelector('#df-16f38034-1769-4760-86f8-e6e1ae2098ab button.colab-df-convert');\n",
              "        buttonEl.style.display =\n",
              "          google.colab.kernel.accessAllowed ? 'block' : 'none';\n",
              "\n",
              "        async function convertToInteractive(key) {\n",
              "          const element = document.querySelector('#df-16f38034-1769-4760-86f8-e6e1ae2098ab');\n",
              "          const dataTable =\n",
              "            await google.colab.kernel.invokeFunction('convertToInteractive',\n",
              "                                                     [key], {});\n",
              "          if (!dataTable) return;\n",
              "\n",
              "          const docLinkHtml = 'Like what you see? Visit the ' +\n",
              "            '<a target=\"_blank\" href=https://colab.research.google.com/notebooks/data_table.ipynb>data table notebook</a>'\n",
              "            + ' to learn more about interactive tables.';\n",
              "          element.innerHTML = '';\n",
              "          dataTable['output_type'] = 'display_data';\n",
              "          await google.colab.output.renderOutput(dataTable, element);\n",
              "          const docLink = document.createElement('div');\n",
              "          docLink.innerHTML = docLinkHtml;\n",
              "          element.appendChild(docLink);\n",
              "        }\n",
              "      </script>\n",
              "    </div>\n",
              "  </div>\n",
              "  "
            ]
          },
          "metadata": {},
          "execution_count": 6
        }
      ],
      "source": [
        "df.head()"
      ]
    },
    {
      "cell_type": "code",
      "execution_count": null,
      "metadata": {
        "id": "nND5XqfMmptm"
      },
      "outputs": [],
      "source": [
        "df.columns =[\"Age\",\"Workclass\",\"Fnlwgt\",\"Education\",\"education_num\",\"marital_status\",\"occupation\",\"relationship\",\"race\",\"sex\",\"capital_gain\",\"capital_loss\",\"hours_per_week\",\"native_country\",\"income\"]"
      ]
    },
    {
      "cell_type": "code",
      "execution_count": null,
      "metadata": {
        "colab": {
          "base_uri": "https://localhost:8080/",
          "height": 320
        },
        "id": "ySRJxOsVmvMm",
        "outputId": "000874e0-7f4b-489d-ec63-d04be5caea8f"
      },
      "outputs": [
        {
          "output_type": "execute_result",
          "data": {
            "text/plain": [
              "   Age          Workclass  Fnlwgt   Education  education_num  \\\n",
              "0   39          State-gov   77516   Bachelors             13   \n",
              "1   50   Self-emp-not-inc   83311   Bachelors             13   \n",
              "2   38            Private  215646     HS-grad              9   \n",
              "3   53            Private  234721        11th              7   \n",
              "4   28            Private  338409   Bachelors             13   \n",
              "\n",
              "        marital_status          occupation    relationship    race      sex  \\\n",
              "0        Never-married        Adm-clerical   Not-in-family   White     Male   \n",
              "1   Married-civ-spouse     Exec-managerial         Husband   White     Male   \n",
              "2             Divorced   Handlers-cleaners   Not-in-family   White     Male   \n",
              "3   Married-civ-spouse   Handlers-cleaners         Husband   Black     Male   \n",
              "4   Married-civ-spouse      Prof-specialty            Wife   Black   Female   \n",
              "\n",
              "   capital_gain  capital_loss  hours_per_week  native_country  income  \n",
              "0          2174             0              40   United-States   <=50K  \n",
              "1             0             0              13   United-States   <=50K  \n",
              "2             0             0              40   United-States   <=50K  \n",
              "3             0             0              40   United-States   <=50K  \n",
              "4             0             0              40            Cuba   <=50K  "
            ],
            "text/html": [
              "\n",
              "  <div id=\"df-8bb75020-9da7-4a45-825e-e1c991d1ab61\">\n",
              "    <div class=\"colab-df-container\">\n",
              "      <div>\n",
              "<style scoped>\n",
              "    .dataframe tbody tr th:only-of-type {\n",
              "        vertical-align: middle;\n",
              "    }\n",
              "\n",
              "    .dataframe tbody tr th {\n",
              "        vertical-align: top;\n",
              "    }\n",
              "\n",
              "    .dataframe thead th {\n",
              "        text-align: right;\n",
              "    }\n",
              "</style>\n",
              "<table border=\"1\" class=\"dataframe\">\n",
              "  <thead>\n",
              "    <tr style=\"text-align: right;\">\n",
              "      <th></th>\n",
              "      <th>Age</th>\n",
              "      <th>Workclass</th>\n",
              "      <th>Fnlwgt</th>\n",
              "      <th>Education</th>\n",
              "      <th>education_num</th>\n",
              "      <th>marital_status</th>\n",
              "      <th>occupation</th>\n",
              "      <th>relationship</th>\n",
              "      <th>race</th>\n",
              "      <th>sex</th>\n",
              "      <th>capital_gain</th>\n",
              "      <th>capital_loss</th>\n",
              "      <th>hours_per_week</th>\n",
              "      <th>native_country</th>\n",
              "      <th>income</th>\n",
              "    </tr>\n",
              "  </thead>\n",
              "  <tbody>\n",
              "    <tr>\n",
              "      <th>0</th>\n",
              "      <td>39</td>\n",
              "      <td>State-gov</td>\n",
              "      <td>77516</td>\n",
              "      <td>Bachelors</td>\n",
              "      <td>13</td>\n",
              "      <td>Never-married</td>\n",
              "      <td>Adm-clerical</td>\n",
              "      <td>Not-in-family</td>\n",
              "      <td>White</td>\n",
              "      <td>Male</td>\n",
              "      <td>2174</td>\n",
              "      <td>0</td>\n",
              "      <td>40</td>\n",
              "      <td>United-States</td>\n",
              "      <td>&lt;=50K</td>\n",
              "    </tr>\n",
              "    <tr>\n",
              "      <th>1</th>\n",
              "      <td>50</td>\n",
              "      <td>Self-emp-not-inc</td>\n",
              "      <td>83311</td>\n",
              "      <td>Bachelors</td>\n",
              "      <td>13</td>\n",
              "      <td>Married-civ-spouse</td>\n",
              "      <td>Exec-managerial</td>\n",
              "      <td>Husband</td>\n",
              "      <td>White</td>\n",
              "      <td>Male</td>\n",
              "      <td>0</td>\n",
              "      <td>0</td>\n",
              "      <td>13</td>\n",
              "      <td>United-States</td>\n",
              "      <td>&lt;=50K</td>\n",
              "    </tr>\n",
              "    <tr>\n",
              "      <th>2</th>\n",
              "      <td>38</td>\n",
              "      <td>Private</td>\n",
              "      <td>215646</td>\n",
              "      <td>HS-grad</td>\n",
              "      <td>9</td>\n",
              "      <td>Divorced</td>\n",
              "      <td>Handlers-cleaners</td>\n",
              "      <td>Not-in-family</td>\n",
              "      <td>White</td>\n",
              "      <td>Male</td>\n",
              "      <td>0</td>\n",
              "      <td>0</td>\n",
              "      <td>40</td>\n",
              "      <td>United-States</td>\n",
              "      <td>&lt;=50K</td>\n",
              "    </tr>\n",
              "    <tr>\n",
              "      <th>3</th>\n",
              "      <td>53</td>\n",
              "      <td>Private</td>\n",
              "      <td>234721</td>\n",
              "      <td>11th</td>\n",
              "      <td>7</td>\n",
              "      <td>Married-civ-spouse</td>\n",
              "      <td>Handlers-cleaners</td>\n",
              "      <td>Husband</td>\n",
              "      <td>Black</td>\n",
              "      <td>Male</td>\n",
              "      <td>0</td>\n",
              "      <td>0</td>\n",
              "      <td>40</td>\n",
              "      <td>United-States</td>\n",
              "      <td>&lt;=50K</td>\n",
              "    </tr>\n",
              "    <tr>\n",
              "      <th>4</th>\n",
              "      <td>28</td>\n",
              "      <td>Private</td>\n",
              "      <td>338409</td>\n",
              "      <td>Bachelors</td>\n",
              "      <td>13</td>\n",
              "      <td>Married-civ-spouse</td>\n",
              "      <td>Prof-specialty</td>\n",
              "      <td>Wife</td>\n",
              "      <td>Black</td>\n",
              "      <td>Female</td>\n",
              "      <td>0</td>\n",
              "      <td>0</td>\n",
              "      <td>40</td>\n",
              "      <td>Cuba</td>\n",
              "      <td>&lt;=50K</td>\n",
              "    </tr>\n",
              "  </tbody>\n",
              "</table>\n",
              "</div>\n",
              "      <button class=\"colab-df-convert\" onclick=\"convertToInteractive('df-8bb75020-9da7-4a45-825e-e1c991d1ab61')\"\n",
              "              title=\"Convert this dataframe to an interactive table.\"\n",
              "              style=\"display:none;\">\n",
              "        \n",
              "  <svg xmlns=\"http://www.w3.org/2000/svg\" height=\"24px\"viewBox=\"0 0 24 24\"\n",
              "       width=\"24px\">\n",
              "    <path d=\"M0 0h24v24H0V0z\" fill=\"none\"/>\n",
              "    <path d=\"M18.56 5.44l.94 2.06.94-2.06 2.06-.94-2.06-.94-.94-2.06-.94 2.06-2.06.94zm-11 1L8.5 8.5l.94-2.06 2.06-.94-2.06-.94L8.5 2.5l-.94 2.06-2.06.94zm10 10l.94 2.06.94-2.06 2.06-.94-2.06-.94-.94-2.06-.94 2.06-2.06.94z\"/><path d=\"M17.41 7.96l-1.37-1.37c-.4-.4-.92-.59-1.43-.59-.52 0-1.04.2-1.43.59L10.3 9.45l-7.72 7.72c-.78.78-.78 2.05 0 2.83L4 21.41c.39.39.9.59 1.41.59.51 0 1.02-.2 1.41-.59l7.78-7.78 2.81-2.81c.8-.78.8-2.07 0-2.86zM5.41 20L4 18.59l7.72-7.72 1.47 1.35L5.41 20z\"/>\n",
              "  </svg>\n",
              "      </button>\n",
              "      \n",
              "  <style>\n",
              "    .colab-df-container {\n",
              "      display:flex;\n",
              "      flex-wrap:wrap;\n",
              "      gap: 12px;\n",
              "    }\n",
              "\n",
              "    .colab-df-convert {\n",
              "      background-color: #E8F0FE;\n",
              "      border: none;\n",
              "      border-radius: 50%;\n",
              "      cursor: pointer;\n",
              "      display: none;\n",
              "      fill: #1967D2;\n",
              "      height: 32px;\n",
              "      padding: 0 0 0 0;\n",
              "      width: 32px;\n",
              "    }\n",
              "\n",
              "    .colab-df-convert:hover {\n",
              "      background-color: #E2EBFA;\n",
              "      box-shadow: 0px 1px 2px rgba(60, 64, 67, 0.3), 0px 1px 3px 1px rgba(60, 64, 67, 0.15);\n",
              "      fill: #174EA6;\n",
              "    }\n",
              "\n",
              "    [theme=dark] .colab-df-convert {\n",
              "      background-color: #3B4455;\n",
              "      fill: #D2E3FC;\n",
              "    }\n",
              "\n",
              "    [theme=dark] .colab-df-convert:hover {\n",
              "      background-color: #434B5C;\n",
              "      box-shadow: 0px 1px 3px 1px rgba(0, 0, 0, 0.15);\n",
              "      filter: drop-shadow(0px 1px 2px rgba(0, 0, 0, 0.3));\n",
              "      fill: #FFFFFF;\n",
              "    }\n",
              "  </style>\n",
              "\n",
              "      <script>\n",
              "        const buttonEl =\n",
              "          document.querySelector('#df-8bb75020-9da7-4a45-825e-e1c991d1ab61 button.colab-df-convert');\n",
              "        buttonEl.style.display =\n",
              "          google.colab.kernel.accessAllowed ? 'block' : 'none';\n",
              "\n",
              "        async function convertToInteractive(key) {\n",
              "          const element = document.querySelector('#df-8bb75020-9da7-4a45-825e-e1c991d1ab61');\n",
              "          const dataTable =\n",
              "            await google.colab.kernel.invokeFunction('convertToInteractive',\n",
              "                                                     [key], {});\n",
              "          if (!dataTable) return;\n",
              "\n",
              "          const docLinkHtml = 'Like what you see? Visit the ' +\n",
              "            '<a target=\"_blank\" href=https://colab.research.google.com/notebooks/data_table.ipynb>data table notebook</a>'\n",
              "            + ' to learn more about interactive tables.';\n",
              "          element.innerHTML = '';\n",
              "          dataTable['output_type'] = 'display_data';\n",
              "          await google.colab.output.renderOutput(dataTable, element);\n",
              "          const docLink = document.createElement('div');\n",
              "          docLink.innerHTML = docLinkHtml;\n",
              "          element.appendChild(docLink);\n",
              "        }\n",
              "      </script>\n",
              "    </div>\n",
              "  </div>\n",
              "  "
            ]
          },
          "metadata": {},
          "execution_count": 8
        }
      ],
      "source": [
        "df.head()"
      ]
    },
    {
      "cell_type": "markdown",
      "metadata": {
        "id": "v_3fiTmK0QbP"
      },
      "source": [
        "# New section"
      ]
    },
    {
      "cell_type": "code",
      "execution_count": null,
      "metadata": {
        "colab": {
          "base_uri": "https://localhost:8080/"
        },
        "id": "IVGCCg5R1B3I",
        "outputId": "dc78c0b4-f221-48ed-d8c5-bcf5df3e2252"
      },
      "outputs": [
        {
          "output_type": "execute_result",
          "data": {
            "text/plain": [
              "(32561, 15)"
            ]
          },
          "metadata": {},
          "execution_count": 9
        }
      ],
      "source": [
        "\n",
        "df.shape"
      ]
    },
    {
      "cell_type": "code",
      "execution_count": null,
      "metadata": {
        "colab": {
          "base_uri": "https://localhost:8080/"
        },
        "id": "vpuevc5Jm5gq",
        "outputId": "e42e0003-e3e7-45e3-8249-f603d87c94b9"
      },
      "outputs": [
        {
          "output_type": "execute_result",
          "data": {
            "text/plain": [
              " <=50K    24720\n",
              " >50K      7841\n",
              "Name: income, dtype: int64"
            ]
          },
          "metadata": {},
          "execution_count": 10
        }
      ],
      "source": [
        "df[\"income\"].value_counts()"
      ]
    },
    {
      "cell_type": "code",
      "execution_count": null,
      "metadata": {
        "colab": {
          "base_uri": "https://localhost:8080/"
        },
        "id": "Vjbzq9jJ1Owt",
        "outputId": "8adfa642-ea13-4240-adcb-21b4d5847352"
      },
      "outputs": [
        {
          "output_type": "execute_result",
          "data": {
            "text/plain": [
              "Age               0\n",
              "Workclass         0\n",
              "Fnlwgt            0\n",
              "Education         0\n",
              "education_num     0\n",
              "marital_status    0\n",
              "occupation        0\n",
              "relationship      0\n",
              "race              0\n",
              "sex               0\n",
              "capital_gain      0\n",
              "capital_loss      0\n",
              "hours_per_week    0\n",
              "native_country    0\n",
              "income            0\n",
              "dtype: int64"
            ]
          },
          "metadata": {},
          "execution_count": 11
        }
      ],
      "source": [
        "df.isnull().sum()"
      ]
    },
    {
      "cell_type": "code",
      "execution_count": null,
      "metadata": {
        "colab": {
          "base_uri": "https://localhost:8080/",
          "height": 237
        },
        "id": "wdWwyS461jZs",
        "outputId": "ea19a89b-7006-4b37-bb05-f2a4f132be9e"
      },
      "outputs": [
        {
          "output_type": "execute_result",
          "data": {
            "text/plain": [
              "                     Age    Fnlwgt  education_num  capital_gain  capital_loss  \\\n",
              "Age             1.000000 -0.076646       0.036527      0.077674      0.057775   \n",
              "Fnlwgt         -0.076646  1.000000      -0.043195      0.000432     -0.010252   \n",
              "education_num   0.036527 -0.043195       1.000000      0.122630      0.079923   \n",
              "capital_gain    0.077674  0.000432       0.122630      1.000000     -0.031615   \n",
              "capital_loss    0.057775 -0.010252       0.079923     -0.031615      1.000000   \n",
              "hours_per_week  0.068756 -0.018768       0.148123      0.078409      0.054256   \n",
              "\n",
              "                hours_per_week  \n",
              "Age                   0.068756  \n",
              "Fnlwgt               -0.018768  \n",
              "education_num         0.148123  \n",
              "capital_gain          0.078409  \n",
              "capital_loss          0.054256  \n",
              "hours_per_week        1.000000  "
            ],
            "text/html": [
              "\n",
              "  <div id=\"df-7b7075bf-c030-4d7a-b893-e0feb133f19d\">\n",
              "    <div class=\"colab-df-container\">\n",
              "      <div>\n",
              "<style scoped>\n",
              "    .dataframe tbody tr th:only-of-type {\n",
              "        vertical-align: middle;\n",
              "    }\n",
              "\n",
              "    .dataframe tbody tr th {\n",
              "        vertical-align: top;\n",
              "    }\n",
              "\n",
              "    .dataframe thead th {\n",
              "        text-align: right;\n",
              "    }\n",
              "</style>\n",
              "<table border=\"1\" class=\"dataframe\">\n",
              "  <thead>\n",
              "    <tr style=\"text-align: right;\">\n",
              "      <th></th>\n",
              "      <th>Age</th>\n",
              "      <th>Fnlwgt</th>\n",
              "      <th>education_num</th>\n",
              "      <th>capital_gain</th>\n",
              "      <th>capital_loss</th>\n",
              "      <th>hours_per_week</th>\n",
              "    </tr>\n",
              "  </thead>\n",
              "  <tbody>\n",
              "    <tr>\n",
              "      <th>Age</th>\n",
              "      <td>1.000000</td>\n",
              "      <td>-0.076646</td>\n",
              "      <td>0.036527</td>\n",
              "      <td>0.077674</td>\n",
              "      <td>0.057775</td>\n",
              "      <td>0.068756</td>\n",
              "    </tr>\n",
              "    <tr>\n",
              "      <th>Fnlwgt</th>\n",
              "      <td>-0.076646</td>\n",
              "      <td>1.000000</td>\n",
              "      <td>-0.043195</td>\n",
              "      <td>0.000432</td>\n",
              "      <td>-0.010252</td>\n",
              "      <td>-0.018768</td>\n",
              "    </tr>\n",
              "    <tr>\n",
              "      <th>education_num</th>\n",
              "      <td>0.036527</td>\n",
              "      <td>-0.043195</td>\n",
              "      <td>1.000000</td>\n",
              "      <td>0.122630</td>\n",
              "      <td>0.079923</td>\n",
              "      <td>0.148123</td>\n",
              "    </tr>\n",
              "    <tr>\n",
              "      <th>capital_gain</th>\n",
              "      <td>0.077674</td>\n",
              "      <td>0.000432</td>\n",
              "      <td>0.122630</td>\n",
              "      <td>1.000000</td>\n",
              "      <td>-0.031615</td>\n",
              "      <td>0.078409</td>\n",
              "    </tr>\n",
              "    <tr>\n",
              "      <th>capital_loss</th>\n",
              "      <td>0.057775</td>\n",
              "      <td>-0.010252</td>\n",
              "      <td>0.079923</td>\n",
              "      <td>-0.031615</td>\n",
              "      <td>1.000000</td>\n",
              "      <td>0.054256</td>\n",
              "    </tr>\n",
              "    <tr>\n",
              "      <th>hours_per_week</th>\n",
              "      <td>0.068756</td>\n",
              "      <td>-0.018768</td>\n",
              "      <td>0.148123</td>\n",
              "      <td>0.078409</td>\n",
              "      <td>0.054256</td>\n",
              "      <td>1.000000</td>\n",
              "    </tr>\n",
              "  </tbody>\n",
              "</table>\n",
              "</div>\n",
              "      <button class=\"colab-df-convert\" onclick=\"convertToInteractive('df-7b7075bf-c030-4d7a-b893-e0feb133f19d')\"\n",
              "              title=\"Convert this dataframe to an interactive table.\"\n",
              "              style=\"display:none;\">\n",
              "        \n",
              "  <svg xmlns=\"http://www.w3.org/2000/svg\" height=\"24px\"viewBox=\"0 0 24 24\"\n",
              "       width=\"24px\">\n",
              "    <path d=\"M0 0h24v24H0V0z\" fill=\"none\"/>\n",
              "    <path d=\"M18.56 5.44l.94 2.06.94-2.06 2.06-.94-2.06-.94-.94-2.06-.94 2.06-2.06.94zm-11 1L8.5 8.5l.94-2.06 2.06-.94-2.06-.94L8.5 2.5l-.94 2.06-2.06.94zm10 10l.94 2.06.94-2.06 2.06-.94-2.06-.94-.94-2.06-.94 2.06-2.06.94z\"/><path d=\"M17.41 7.96l-1.37-1.37c-.4-.4-.92-.59-1.43-.59-.52 0-1.04.2-1.43.59L10.3 9.45l-7.72 7.72c-.78.78-.78 2.05 0 2.83L4 21.41c.39.39.9.59 1.41.59.51 0 1.02-.2 1.41-.59l7.78-7.78 2.81-2.81c.8-.78.8-2.07 0-2.86zM5.41 20L4 18.59l7.72-7.72 1.47 1.35L5.41 20z\"/>\n",
              "  </svg>\n",
              "      </button>\n",
              "      \n",
              "  <style>\n",
              "    .colab-df-container {\n",
              "      display:flex;\n",
              "      flex-wrap:wrap;\n",
              "      gap: 12px;\n",
              "    }\n",
              "\n",
              "    .colab-df-convert {\n",
              "      background-color: #E8F0FE;\n",
              "      border: none;\n",
              "      border-radius: 50%;\n",
              "      cursor: pointer;\n",
              "      display: none;\n",
              "      fill: #1967D2;\n",
              "      height: 32px;\n",
              "      padding: 0 0 0 0;\n",
              "      width: 32px;\n",
              "    }\n",
              "\n",
              "    .colab-df-convert:hover {\n",
              "      background-color: #E2EBFA;\n",
              "      box-shadow: 0px 1px 2px rgba(60, 64, 67, 0.3), 0px 1px 3px 1px rgba(60, 64, 67, 0.15);\n",
              "      fill: #174EA6;\n",
              "    }\n",
              "\n",
              "    [theme=dark] .colab-df-convert {\n",
              "      background-color: #3B4455;\n",
              "      fill: #D2E3FC;\n",
              "    }\n",
              "\n",
              "    [theme=dark] .colab-df-convert:hover {\n",
              "      background-color: #434B5C;\n",
              "      box-shadow: 0px 1px 3px 1px rgba(0, 0, 0, 0.15);\n",
              "      filter: drop-shadow(0px 1px 2px rgba(0, 0, 0, 0.3));\n",
              "      fill: #FFFFFF;\n",
              "    }\n",
              "  </style>\n",
              "\n",
              "      <script>\n",
              "        const buttonEl =\n",
              "          document.querySelector('#df-7b7075bf-c030-4d7a-b893-e0feb133f19d button.colab-df-convert');\n",
              "        buttonEl.style.display =\n",
              "          google.colab.kernel.accessAllowed ? 'block' : 'none';\n",
              "\n",
              "        async function convertToInteractive(key) {\n",
              "          const element = document.querySelector('#df-7b7075bf-c030-4d7a-b893-e0feb133f19d');\n",
              "          const dataTable =\n",
              "            await google.colab.kernel.invokeFunction('convertToInteractive',\n",
              "                                                     [key], {});\n",
              "          if (!dataTable) return;\n",
              "\n",
              "          const docLinkHtml = 'Like what you see? Visit the ' +\n",
              "            '<a target=\"_blank\" href=https://colab.research.google.com/notebooks/data_table.ipynb>data table notebook</a>'\n",
              "            + ' to learn more about interactive tables.';\n",
              "          element.innerHTML = '';\n",
              "          dataTable['output_type'] = 'display_data';\n",
              "          await google.colab.output.renderOutput(dataTable, element);\n",
              "          const docLink = document.createElement('div');\n",
              "          docLink.innerHTML = docLinkHtml;\n",
              "          element.appendChild(docLink);\n",
              "        }\n",
              "      </script>\n",
              "    </div>\n",
              "  </div>\n",
              "  "
            ]
          },
          "metadata": {},
          "execution_count": 12
        }
      ],
      "source": [
        "df.corr()"
      ]
    },
    {
      "cell_type": "code",
      "execution_count": null,
      "metadata": {
        "colab": {
          "base_uri": "https://localhost:8080/"
        },
        "id": "pahJLkFs3Ct3",
        "outputId": "1577948f-97ae-4bcc-c6ce-b951b340826c"
      },
      "outputs": [
        {
          "output_type": "execute_result",
          "data": {
            "text/plain": [
              "Age                int64\n",
              "Workclass         object\n",
              "Fnlwgt             int64\n",
              "Education         object\n",
              "education_num      int64\n",
              "marital_status    object\n",
              "occupation        object\n",
              "relationship      object\n",
              "race              object\n",
              "sex               object\n",
              "capital_gain       int64\n",
              "capital_loss       int64\n",
              "hours_per_week     int64\n",
              "native_country    object\n",
              "income            object\n",
              "dtype: object"
            ]
          },
          "metadata": {},
          "execution_count": 13
        }
      ],
      "source": [
        "df.dtypes"
      ]
    },
    {
      "cell_type": "code",
      "execution_count": null,
      "metadata": {
        "colab": {
          "base_uri": "https://localhost:8080/"
        },
        "id": "ikLLt2JS3wDV",
        "outputId": "20868ce8-f1a7-40c5-e585-c35a639942f1"
      },
      "outputs": [
        {
          "output_type": "execute_result",
          "data": {
            "text/plain": [
              "['Workclass',\n",
              " 'Education',\n",
              " 'marital_status',\n",
              " 'occupation',\n",
              " 'relationship',\n",
              " 'race',\n",
              " 'sex',\n",
              " 'native_country',\n",
              " 'income']"
            ]
          },
          "metadata": {},
          "execution_count": 16
        }
      ],
      "source": [
        "cat=[x for x in df.columns if df[x].dtype==\"object\"]\n",
        "cat\n"
      ]
    },
    {
      "cell_type": "code",
      "execution_count": null,
      "metadata": {
        "id": "59VjFj5UV4S4",
        "colab": {
          "base_uri": "https://localhost:8080/"
        },
        "outputId": "229ed3cb-9925-4138-9f4f-85ba3146e0e5"
      },
      "outputs": [
        {
          "output_type": "execute_result",
          "data": {
            "text/plain": [
              "Age               int64\n",
              "Workclass         int64\n",
              "Fnlwgt            int64\n",
              "Education         int64\n",
              "education_num     int64\n",
              "marital_status    int64\n",
              "occupation        int64\n",
              "relationship      int64\n",
              "race              int64\n",
              "sex               int64\n",
              "capital_gain      int64\n",
              "capital_loss      int64\n",
              "hours_per_week    int64\n",
              "native_country    int64\n",
              "income            int64\n",
              "dtype: object"
            ]
          },
          "metadata": {},
          "execution_count": 17
        }
      ],
      "source": [
        "from sklearn.preprocessing import LabelEncoder\n",
        "le=LabelEncoder()\n",
        "for i in cat:\n",
        "  df[i]=le.fit_transform(df[i])\n",
        "df.dtypes"
      ]
    },
    {
      "cell_type": "code",
      "execution_count": null,
      "metadata": {
        "colab": {
          "base_uri": "https://localhost:8080/"
        },
        "id": "r1nVKmjiWHS9",
        "outputId": "b763c8de-3de4-4123-8539-4876a6bb0b1e"
      },
      "outputs": [
        {
          "output_type": "stream",
          "name": "stdout",
          "text": [
            "(32561, 14)\n",
            "(32561,)\n",
            "<class 'pandas.core.frame.DataFrame'>\n",
            "<class 'pandas.core.series.Series'>\n"
          ]
        }
      ],
      "source": [
        "x=df.drop([\"income\"],axis=1)\n",
        "y=df[\"income\"]\n",
        "print(x.shape)\n",
        "print(y.shape)\n",
        "print(type(x))\n",
        "print(type(y))"
      ]
    },
    {
      "cell_type": "code",
      "execution_count": null,
      "metadata": {
        "colab": {
          "base_uri": "https://localhost:8080/"
        },
        "id": "JcdcQiQpWI3v",
        "outputId": "9b348aa6-17c5-4c69-8df2-9053d31509b2"
      },
      "outputs": [
        {
          "output_type": "stream",
          "name": "stdout",
          "text": [
            "(26048, 14)\n",
            "(6513, 14)\n",
            "(26048,)\n",
            "(6513,)\n"
          ]
        }
      ],
      "source": [
        "from sklearn.model_selection import train_test_split\n",
        "x_train,x_test,y_train,y_test = train_test_split(x,y,test_size=0.20)\n",
        "print(x_train.shape)\n",
        "print(x_test.shape)\n",
        "print(y_train.shape)\n",
        "print(y_test.shape)"
      ]
    },
    {
      "cell_type": "code",
      "execution_count": null,
      "metadata": {
        "id": "KpPerGaFYUcO"
      },
      "outputs": [],
      "source": [
        "from sklearn.metrics import confusion_matrix,accuracy_score,classification_report"
      ]
    },
    {
      "cell_type": "code",
      "execution_count": null,
      "metadata": {
        "id": "1R40dsb7qnei"
      },
      "outputs": [],
      "source": [
        "def genmetrics(ytest,ypred):\n",
        "   cm=confusion_matrix(ytest,ypred)\n",
        "   print(cm)\n",
        "   print(\"Classification report \\n\",classification_report(ytest,ypred))\n",
        "   print(\"Accuracy score\",accuracy_score(ytest,ypred))"
      ]
    },
    {
      "cell_type": "code",
      "execution_count": null,
      "metadata": {
        "id": "1B94exTUzVQl"
      },
      "outputs": [],
      "source": [
        "from sklearn.metrics import precision_score,recall_score,f1_score\n",
        "def validation(ytest,ypred):\n",
        "  conmatrix=confusion_matrix(ytest,ypred)\n",
        "  tp=conmatrix[0][0]\n",
        "  fn=conmatrix[0][1]\n",
        "  fp=conmatrix[1][0]\n",
        "  tn=conmatrix[1][1]\n",
        "  Precision=tn/(tn+fn)\n",
        "  Recall=tn/(tn+fp)\n",
        "  F1_score=(2*Precision*Recall)/(Precision+Recall)\n",
        "  print(\"Validated precision is\",Precision,'\\n',\"Computed precision is \",precision_score(ytest,ypred))\n",
        "  print(\"Validated recall is\",Recall,'\\n',\"Computed recall is \",recall_score(ytest,ypred))\n",
        "  print(\"Validated f1score is\",F1_score,'\\n',\"Computed f1_score is \",f1_score(ytest,ypred))\n",
        "  print(\"Accuracy is \",accuracy_score(ytest,ypred),'\\n',\"Computed accuracy is \",(tp+tn)/(tp+tn+fp+fn))"
      ]
    },
    {
      "cell_type": "code",
      "execution_count": null,
      "metadata": {
        "id": "b53amjwPqpUm"
      },
      "outputs": [],
      "source": [
        "from sklearn.model_selection import GridSearchCV,RandomizedSearchCV"
      ]
    },
    {
      "cell_type": "code",
      "execution_count": null,
      "metadata": {
        "id": "KmMpCijgWMCk"
      },
      "outputs": [],
      "source": [
        "from sklearn.tree import DecisionTreeClassifier\n",
        "m1=DecisionTreeClassifier()\n",
        "hparams_dectree={'criterion':['gini','entropy'],'max_depth':list(range(5,17)),'min_samples_split':list(range(10,20))}\n",
        "m1_cv=RandomizedSearchCV(m1,param_distributions=hparams_dectree,scoring='accuracy')"
      ]
    },
    {
      "cell_type": "code",
      "execution_count": null,
      "metadata": {
        "colab": {
          "base_uri": "https://localhost:8080/"
        },
        "id": "fyfh494QYpiG",
        "outputId": "3130012c-62e6-4c51-839f-5da9a45e33f9"
      },
      "outputs": [
        {
          "output_type": "stream",
          "name": "stdout",
          "text": [
            "{'min_samples_split': 16, 'max_depth': 9, 'criterion': 'gini'}\n"
          ]
        }
      ],
      "source": [
        "m1_cv.fit(x_train,y_train)\n",
        "print(m1_cv.best_params_)"
      ]
    },
    {
      "cell_type": "code",
      "execution_count": null,
      "metadata": {
        "id": "sKJ9EKzesMUI"
      },
      "outputs": [],
      "source": [
        "ypred_m1_cv=m1_cv.predict(x_test)"
      ]
    },
    {
      "cell_type": "code",
      "execution_count": null,
      "metadata": {
        "colab": {
          "base_uri": "https://localhost:8080/"
        },
        "id": "A9DXvOqUcQ8y",
        "outputId": "e3f44a4b-20dd-42f6-920b-20208e2e6804"
      },
      "outputs": [
        {
          "output_type": "stream",
          "name": "stdout",
          "text": [
            "Training score 0.8645961302211302\n",
            "Testing score 0.8539843390142792\n",
            "[[4532  413]\n",
            " [ 538 1030]]\n",
            "Classification report \n",
            "               precision    recall  f1-score   support\n",
            "\n",
            "           0       0.89      0.92      0.91      4945\n",
            "           1       0.71      0.66      0.68      1568\n",
            "\n",
            "    accuracy                           0.85      6513\n",
            "   macro avg       0.80      0.79      0.79      6513\n",
            "weighted avg       0.85      0.85      0.85      6513\n",
            "\n",
            "Accuracy score 0.8539843390142792\n",
            "Validated precision is 0.7137907137907138 \n",
            " Computed precision is  0.7137907137907138\n",
            "Validated recall is 0.6568877551020408 \n",
            " Computed recall is  0.6568877551020408\n",
            "Validated f1score is 0.6841580870142809 \n",
            " Computed f1_score is  0.6841580870142809\n",
            "Accuracy is  0.8539843390142792 \n",
            " Computed accuracy is  0.8539843390142792\n"
          ]
        }
      ],
      "source": [
        "from sklearn.metrics import precision_score\n",
        "print(\"Training score\",m1_cv.score(x_train,y_train))\n",
        "print(\"Testing score\",m1_cv.score(x_test,y_test))\n",
        "genmetrics(y_test,ypred_m1_cv)\n",
        "validation(y_test,ypred_m1_cv)"
      ]
    },
    {
      "cell_type": "code",
      "execution_count": null,
      "metadata": {
        "id": "kMWN7RKYdFvM"
      },
      "outputs": [],
      "source": [
        "from sklearn.ensemble import RandomForestClassifier\n",
        "m2=RandomForestClassifier()\n",
        "hparams_randfor={'n_estimators':[50,60,70,80,100],'criterion':['gini','entropy'],'max_depth':list(range(10,20)),'min_samples_split':list(range(15,20))}\n",
        "m2_cv=RandomizedSearchCV(m2,param_distributions=hparams_randfor,scoring='accuracy')"
      ]
    },
    {
      "cell_type": "code",
      "execution_count": null,
      "metadata": {
        "colab": {
          "base_uri": "https://localhost:8080/"
        },
        "id": "zqZGV0XPgNFv",
        "outputId": "a539f42b-08db-4ea1-a396-5276720b356b"
      },
      "outputs": [
        {
          "output_type": "stream",
          "name": "stdout",
          "text": [
            "{'n_estimators': 80, 'min_samples_split': 16, 'max_depth': 19, 'criterion': 'entropy'}\n"
          ]
        }
      ],
      "source": [
        "m2_cv.fit(x_train,y_train)\n",
        "print(m2_cv.best_params_)"
      ]
    },
    {
      "cell_type": "code",
      "execution_count": null,
      "metadata": {
        "id": "wfs8Wrn7lHYp"
      },
      "outputs": [],
      "source": [
        "ypred_m2_cv=m2_cv.predict(x_test)"
      ]
    },
    {
      "cell_type": "code",
      "execution_count": null,
      "metadata": {
        "colab": {
          "base_uri": "https://localhost:8080/"
        },
        "id": "w-t8Nm0ijyWj",
        "outputId": "7118e1a6-cbfe-4d50-92c7-5c15a08c08bc"
      },
      "outputs": [
        {
          "output_type": "stream",
          "name": "stdout",
          "text": [
            "Training score 0.9025644963144963\n",
            "Testing score 0.8670351604483341\n",
            "[[4674  271]\n",
            " [ 595  973]]\n",
            "Classification report \n",
            "               precision    recall  f1-score   support\n",
            "\n",
            "           0       0.89      0.95      0.92      4945\n",
            "           1       0.78      0.62      0.69      1568\n",
            "\n",
            "    accuracy                           0.87      6513\n",
            "   macro avg       0.83      0.78      0.80      6513\n",
            "weighted avg       0.86      0.87      0.86      6513\n",
            "\n",
            "Accuracy score 0.8670351604483341\n",
            "Validated precision is  0.7821543408360129 \n",
            " Computed precision is  0.7821543408360129\n",
            "Validated recall is  0.6205357142857143 \n",
            " Computed recall is  0.6205357142857143\n",
            "Validated f1score is  0.6920341394025605 \n",
            " Computed f1_score is  0.6920341394025605\n",
            "Accuracy is  0.8670351604483341 \n",
            " Computed accuracy is  0.8670351604483341\n"
          ]
        }
      ],
      "source": [
        "print(\"Training score\",m2_cv.score(x_train,y_train))\n",
        "print(\"Testing score\",m2_cv.score(x_test,y_test))\n",
        "genmetrics(y_test,ypred_m2_cv)\n",
        "validation(y_test,ypred_m2_cv)"
      ]
    },
    {
      "cell_type": "code",
      "execution_count": null,
      "metadata": {
        "id": "twaXzwfFsYEq"
      },
      "outputs": [],
      "source": [
        "from sklearn.linear_model import LogisticRegression\n",
        "m3=LogisticRegression()\n",
        "#hparams_logreg={'solver':['newton-cg', 'lbfgs', 'liblinear'],'penalty':['none', 'l1', 'l2', 'elasticnet']}\n",
        "#m3_cv=RandomizedSearchCV(m3,param_distributions=hparams_logreg,scoring='accuracy')\n",
        "m3_cv=m3"
      ]
    },
    {
      "cell_type": "code",
      "execution_count": null,
      "metadata": {
        "colab": {
          "base_uri": "https://localhost:8080/"
        },
        "id": "2UgGJfJLtmkH",
        "outputId": "b65604f0-becd-4c0e-f609-18f45fd68e65"
      },
      "outputs": [
        {
          "output_type": "execute_result",
          "data": {
            "text/plain": [
              "LogisticRegression()"
            ]
          },
          "metadata": {},
          "execution_count": 48
        }
      ],
      "source": [
        "m3_cv.fit(x_train,y_train)\n",
        "#print(m3_cv.best_params_)"
      ]
    },
    {
      "cell_type": "code",
      "execution_count": null,
      "metadata": {
        "id": "iAXp8LRHtrMj"
      },
      "outputs": [],
      "source": [
        "ypred_m3_cv=m3_cv.predict(x_test)"
      ]
    },
    {
      "cell_type": "code",
      "execution_count": null,
      "metadata": {
        "colab": {
          "base_uri": "https://localhost:8080/"
        },
        "id": "AWjtamoDtvO0",
        "outputId": "c5470918-c9d2-4eb7-ceef-cd106e724810"
      },
      "outputs": [
        {
          "output_type": "stream",
          "name": "stdout",
          "text": [
            "Training score 0.7873157248157249\n",
            "Testing score 0.7899585444495624\n",
            "[[4672  273]\n",
            " [1095  473]]\n",
            "Classification report \n",
            "               precision    recall  f1-score   support\n",
            "\n",
            "           0       0.81      0.94      0.87      4945\n",
            "           1       0.63      0.30      0.41      1568\n",
            "\n",
            "    accuracy                           0.79      6513\n",
            "   macro avg       0.72      0.62      0.64      6513\n",
            "weighted avg       0.77      0.79      0.76      6513\n",
            "\n",
            "Accuracy score 0.7899585444495624\n",
            "Validated precision is 0.6340482573726541 \n",
            " Computed precision is  0.6340482573726541\n",
            "Validated recall is 0.30165816326530615 \n",
            " Computed recall is  0.30165816326530615\n",
            "Validated f1score is 0.4088159031979257 \n",
            " Computed f1_score is  0.4088159031979257\n",
            "Accuracy is  0.7899585444495624 \n",
            " Computed accuracy is  0.7899585444495624\n"
          ]
        }
      ],
      "source": [
        "print(\"Training score\",m3_cv.score(x_train,y_train))\n",
        "print(\"Testing score\",m3_cv.score(x_test,y_test))\n",
        "genmetrics(y_test,ypred_m3_cv)\n",
        "validation(y_test,ypred_m3_cv)"
      ]
    },
    {
      "cell_type": "code",
      "execution_count": null,
      "metadata": {
        "id": "L7Y6u4hFukpM"
      },
      "outputs": [],
      "source": [
        "from sklearn.neighbors import KNeighborsClassifier\n",
        "m4=KNeighborsClassifier()\n",
        "hparams_knn={'n_neighbors':[1,3,5,7,9,11,13,15,17,19,21,23,25]}\n",
        "m4_cv=GridSearchCV(m4,hparams_knn,scoring='accuracy')"
      ]
    },
    {
      "cell_type": "code",
      "execution_count": null,
      "metadata": {
        "id": "FMseHW5qwWW-",
        "colab": {
          "base_uri": "https://localhost:8080/"
        },
        "outputId": "a249c5be-e157-428c-fb4a-81d699de97d3"
      },
      "outputs": [
        {
          "output_type": "stream",
          "name": "stdout",
          "text": [
            "{'n_neighbors': 23}\n"
          ]
        }
      ],
      "source": [
        "m4_cv.fit(x_train,y_train)\n",
        "print(m4_cv.best_params_)"
      ]
    },
    {
      "cell_type": "code",
      "execution_count": null,
      "metadata": {
        "id": "VBZDSWVTwhUf"
      },
      "outputs": [],
      "source": [
        "ypred_m4_cv=m4_cv.predict(x_test)"
      ]
    },
    {
      "cell_type": "code",
      "execution_count": null,
      "metadata": {
        "id": "-3Su0VxWwjbp",
        "colab": {
          "base_uri": "https://localhost:8080/"
        },
        "outputId": "a84d0221-89b8-45e3-b06e-b047a6e56ba5"
      },
      "outputs": [
        {
          "output_type": "stream",
          "name": "stdout",
          "text": [
            "Training score 0.8028639434889435\n",
            "Testing score 0.8003992015968064\n",
            "[[4873   72]\n",
            " [1228  340]]\n",
            "Classification report \n",
            "               precision    recall  f1-score   support\n",
            "\n",
            "           0       0.80      0.99      0.88      4945\n",
            "           1       0.83      0.22      0.34      1568\n",
            "\n",
            "    accuracy                           0.80      6513\n",
            "   macro avg       0.81      0.60      0.61      6513\n",
            "weighted avg       0.81      0.80      0.75      6513\n",
            "\n",
            "Accuracy score 0.8003992015968064\n",
            "Validated precision is 0.8252427184466019 \n",
            " Computed precision is  0.8252427184466019\n",
            "Validated recall is 0.21683673469387754 \n",
            " Computed recall is  0.21683673469387754\n",
            "Validated f1score is 0.34343434343434337 \n",
            " Computed f1_score is  0.34343434343434337\n",
            "Accuracy is  0.8003992015968064 \n",
            " Computed accuracy is  0.8003992015968064\n"
          ]
        }
      ],
      "source": [
        "print(\"Training score\",m4_cv.score(x_train,y_train))\n",
        "print(\"Testing score\",m4_cv.score(x_test,y_test))\n",
        "genmetrics(y_test,ypred_m4_cv)\n",
        "validation(y_test,ypred_m4_cv)"
      ]
    },
    {
      "cell_type": "code",
      "execution_count": null,
      "metadata": {
        "id": "IweIo4_owp5b"
      },
      "outputs": [],
      "source": [
        "from sklearn.svm import SVC\n",
        "m5=SVC(kernel='linear')"
      ]
    },
    {
      "cell_type": "code",
      "execution_count": null,
      "metadata": {
        "id": "OFQynT2xxFQY",
        "colab": {
          "base_uri": "https://localhost:8080/"
        },
        "outputId": "081f3ab2-8578-45ce-d0c9-68f1c275f5b1"
      },
      "outputs": [
        {
          "output_type": "execute_result",
          "data": {
            "text/plain": [
              "SVC(kernel='linear')"
            ]
          },
          "metadata": {},
          "execution_count": 56
        }
      ],
      "source": [
        "m5.fit(x_train,y_train)"
      ]
    },
    {
      "cell_type": "code",
      "execution_count": null,
      "metadata": {
        "id": "qEPYG8wlxJcE"
      },
      "outputs": [],
      "source": [
        "ypred_m5=m5.predict(x_test)"
      ]
    },
    {
      "cell_type": "code",
      "execution_count": null,
      "metadata": {
        "id": "BAynt-dBxMPV",
        "colab": {
          "base_uri": "https://localhost:8080/"
        },
        "outputId": "a9330e3c-6b96-43e2-f800-347ebd26bed8"
      },
      "outputs": [
        {
          "output_type": "stream",
          "name": "stdout",
          "text": [
            "Training score 0.7967982186732187\n",
            "Testing score 0.799324428066943\n",
            "[[4707  238]\n",
            " [1069  499]]\n",
            "Classification report \n",
            "               precision    recall  f1-score   support\n",
            "\n",
            "           0       0.81      0.95      0.88      4945\n",
            "           1       0.68      0.32      0.43      1568\n",
            "\n",
            "    accuracy                           0.80      6513\n",
            "   macro avg       0.75      0.64      0.66      6513\n",
            "weighted avg       0.78      0.80      0.77      6513\n",
            "\n",
            "Accuracy score 0.799324428066943\n",
            "Validated precision is 0.6770691994572592 \n",
            " Computed precision is  0.6770691994572592\n",
            "Validated recall is 0.3182397959183674 \n",
            " Computed recall is  0.3182397959183674\n",
            "Validated f1score is 0.4329718004338395 \n",
            " Computed f1_score is  0.4329718004338395\n",
            "Accuracy is  0.799324428066943 \n",
            " Computed accuracy is  0.799324428066943\n"
          ]
        }
      ],
      "source": [
        "print(\"Training score\",m5.score(x_train,y_train))\n",
        "print(\"Testing score\",m5.score(x_test,y_test))\n",
        "genmetrics(y_test,ypred_m5)\n",
        "validation(y_test,ypred_m5)"
      ]
    },
    {
      "cell_type": "code",
      "execution_count": null,
      "metadata": {
        "id": "dBKJQUsXaMPl",
        "colab": {
          "base_uri": "https://localhost:8080/"
        },
        "outputId": "3ec864cc-c94e-4ecb-cd8f-2e3ac4d3409a"
      },
      "outputs": [
        {
          "output_type": "stream",
          "name": "stdout",
          "text": [
            "The most accurate model is Random Forest with accuracy 0.8670351604483341\n"
          ]
        }
      ],
      "source": [
        "accuracies={\"Decision tree\":accuracy_score(y_test,ypred_m1_cv),\"Random Forest\":accuracy_score(y_test,ypred_m2_cv),\"Logistic Regression\":accuracy_score(y_test,ypred_m3_cv),\"KNN\":accuracy_score(y_test,ypred_m4_cv),\"SVM\":accuracy_score(y_test,ypred_m5)}\n",
        "key_list=list(accuracies.keys())\n",
        "value_list=list(accuracies.values())\n",
        "value=max(value_list)\n",
        "print(\"The most accurate model is\",key_list[value_list.index(value)],\"with accuracy\",value)"
      ]
    }
  ],
  "metadata": {
    "colab": {
      "provenance": [],
      "include_colab_link": true
    },
    "kernelspec": {
      "display_name": "Python 3",
      "name": "python3"
    },
    "language_info": {
      "name": "python"
    }
  },
  "nbformat": 4,
  "nbformat_minor": 0
}